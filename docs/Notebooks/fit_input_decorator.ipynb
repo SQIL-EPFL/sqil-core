{
 "cells": [
  {
   "cell_type": "markdown",
   "metadata": {},
   "source": [
    "# The @fit_input decorator"
   ]
  },
  {
   "cell_type": "markdown",
   "metadata": {},
   "source": [
    "The `@fit_input` decorator makes it easy to define bounds for the fit function in a more readable way. It also lets users include a `fixed_params` argument in any fit function it decorates, even if that function doesn’t normally support `fixed_params`.\n",
    "\n",
    "As the name suggests `fixed_params` allows users to define which parameters in their initial guess should not be modified during the optimization. This is achieved by setting tight bounds around the fixed parameters, +/- param_value / tolerance. The tolerance is by default 1e-6, but it can be set using the `fixed_bound_factor` argument.\n",
    "\n",
    "\n",
    "IMPORTANT: This decorator requires the x and y input vectors to be named `x_data` and `y_data`. The initial guess must be called `guess` and the bounds `bounds`.\n",
    "\n",
    "IMPORTANT: Note that scipy doesn't allow `bounds = None`. If you're writing a fit function with the `@fit_input` decorator and don't want to force the user to pass bounds every time, you should be mindful of that. To solve this issue you can write your own logic to handle invalid bounds, or set the bounds input argument to have a default of `bounds = (-np.inf, np.inf)`, which will leave ALL parameters free. "
   ]
  },
  {
   "cell_type": "markdown",
   "metadata": {},
   "source": [
    "## Lorentzian fit example\n",
    "Let's define the lorentzian function and create some synthetic data for our example"
   ]
  },
  {
   "cell_type": "code",
   "execution_count": 1,
   "metadata": {},
   "outputs": [],
   "source": [
    "import numpy as np\n",
    "\n",
    "\n",
    "# Define the Lorentzian function\n",
    "def lorentzian(x, A, x0, w):\n",
    "    return (A / np.pi) * (w / ((x - x0) ** 2 + w**2))\n",
    "\n",
    "\n",
    "# Generate synthetic data\n",
    "true_params = [1, 0, 2]  # A=1, x0=0, w=2\n",
    "np.random.seed(11)\n",
    "x_data = np.linspace(-10, 10, 100)\n",
    "noise = 0.01 * np.random.normal(size=len(x_data))\n",
    "y_data = lorentzian(x_data, *true_params) + noise  # Add noise"
   ]
  },
  {
   "cell_type": "markdown",
   "metadata": {},
   "source": [
    "Then we write a fit function that supports bounds and apply the `fit_input` decorator, remembering to give the correct names to the input arguments."
   ]
  },
  {
   "cell_type": "code",
   "execution_count": 2,
   "metadata": {},
   "outputs": [],
   "source": [
    "from scipy.optimize import curve_fit\n",
    "\n",
    "from sqil_core.fit import fit_input\n",
    "\n",
    "\n",
    "@fit_input\n",
    "def fit_lorentzian(x_data, y_data, guess=None, bounds=(-np.inf, np.inf)):\n",
    "    return curve_fit(lorentzian, x_data, y_data, p0=guess, bounds=bounds)"
   ]
  },
  {
   "cell_type": "markdown",
   "metadata": {},
   "source": [
    "### Fitting without initial guess and without bounds"
   ]
  },
  {
   "cell_type": "code",
   "execution_count": 3,
   "metadata": {},
   "outputs": [
    {
     "name": "stdout",
     "output_type": "stream",
     "text": [
      "Optimized parameters\tNo guess/bounds\t [1.00732229 0.04351166 2.01522901]\n"
     ]
    }
   ],
   "source": [
    "# No guess and no bounds\n",
    "res = fit_lorentzian(x_data, y_data)\n",
    "print(\"Optimized parameters\\tNo guess/bounds\\t\", res[0])"
   ]
  },
  {
   "cell_type": "markdown",
   "metadata": {},
   "source": [
    "### Fitting with an inital guess"
   ]
  },
  {
   "cell_type": "markdown",
   "metadata": {},
   "source": [
    "The initial guess is just an array of parameters, so you need to be careful about the order. The order in which you put the parameters in the initial guess must be the same as the one used by your model function.\n",
    "\n",
    "In our example, the parameter order must be the same as the one used by `lorentzian(x, A, x0, w)`, so `[A, x0, w]`."
   ]
  },
  {
   "cell_type": "code",
   "execution_count": 4,
   "metadata": {},
   "outputs": [
    {
     "name": "stdout",
     "output_type": "stream",
     "text": [
      "Optimized parameters\tOnly guess\t [1.0073222  0.04351161 2.01522867]\n"
     ]
    }
   ],
   "source": [
    "# Guess   A   x0   w\n",
    "guess = [0.5, 0.5, 1]\n",
    "\n",
    "# Only guess\n",
    "res = fit_lorentzian(x_data, y_data, guess=guess)\n",
    "print(\"Optimized parameters\\tOnly guess\\t\", res[0])"
   ]
  },
  {
   "cell_type": "markdown",
   "metadata": {},
   "source": [
    "The parameter order might not at all be obvious. If you're writing a fitting function `fit_lorentzian` the users cannot see your `lorentzian` model function. So it's HIGHLY recommended that you write down the parameter order in the fit function's docstring, like so"
   ]
  },
  {
   "cell_type": "code",
   "execution_count": 5,
   "metadata": {},
   "outputs": [],
   "source": [
    "@fit_input\n",
    "def fit_lorentzian(x_data, y_data, guess=None, bounds=(-np.inf, np.inf)):\n",
    "    \"\"\"Function to fit lorentzians :)\n",
    "\n",
    "    Parameters\n",
    "    ----------\n",
    "    x_data : np.ndarray\n",
    "        The independent variable\n",
    "    y_data : np.ndarray\n",
    "        The dependent variable\n",
    "    guess : list, optional\n",
    "        The initial guess for the parameters [A, x0, w], by default None\n",
    "    bounds : list[tuple] | tuple, optional\n",
    "        The bounds for the optimization in the form [(min, max), ...], by default (-np.inf, np.inf)\n",
    "\n",
    "    Returns\n",
    "    -------\n",
    "    tuple\n",
    "        popt, pcov\n",
    "    \"\"\"\n",
    "    return curve_fit(lorentzian, x_data, y_data, p0=guess, bounds=bounds)"
   ]
  },
  {
   "cell_type": "markdown",
   "metadata": {},
   "source": [
    "Note how in the guess line the parameter order is specified. To write the docstring template automatically you can download the autoDosctring VS Code extension, then type \"\"\" (right below your function's definition) followed by TAB."
   ]
  },
  {
   "cell_type": "markdown",
   "metadata": {},
   "source": [
    "### Fitting with bounds"
   ]
  },
  {
   "cell_type": "markdown",
   "metadata": {},
   "source": [
    "Bounds must be given in an array of tuples, following the same order as the guess array."
   ]
  },
  {
   "cell_type": "code",
   "execution_count": 6,
   "metadata": {},
   "outputs": [
    {
     "name": "stdout",
     "output_type": "stream",
     "text": [
      "Optimized parameters\tOnly bounds\t [1.0073222  0.0435117  2.01522867]\n"
     ]
    }
   ],
   "source": [
    "# Bounds    A       x0        w\n",
    "bounds = [(0, 2), (-3, 1), (0.7, 2.1)]\n",
    "\n",
    "# Only bounds\n",
    "res = fit_lorentzian(x_data, y_data, bounds=bounds)\n",
    "print(\"Optimized parameters\\tOnly bounds\\t\", res[0])"
   ]
  },
  {
   "cell_type": "markdown",
   "metadata": {},
   "source": [
    "### Fixing parameters"
   ]
  },
  {
   "cell_type": "markdown",
   "metadata": {},
   "source": [
    "The `fit_lorentzian` function doesn't allow for a `fixed_params` argument directly, but it inherits it from the `@fit_input` decorator. So, even if it's not present in the function definition, you can still pass it.\n",
    "\n",
    "`fixed_params` allows users to define which parameters should not be optimized. To be able to fix the values an initial guess must be provided. \n",
    "\n",
    "It must be passed as an array of indices. These indices are relative to the initial guess. So, for example, if we wanted to fix the amplitude A of the lorentzian, we would set `fixed_params=[0]`\n"
   ]
  },
  {
   "cell_type": "code",
   "execution_count": 7,
   "metadata": {},
   "outputs": [
    {
     "name": "stdout",
     "output_type": "stream",
     "text": [
      "Optimized parameters\tFixed A = 0.5\t [0.5000005  0.08076683 1.09458635]\n"
     ]
    }
   ],
   "source": [
    "# Guess   A   x0   w\n",
    "guess = [0.5, 0.5, 1]\n",
    "\n",
    "# Fix A to its initial value\n",
    "fixed_params = [0]\n",
    "\n",
    "# Fit with fixed A\n",
    "res = fit_lorentzian(x_data, y_data, guess=guess, fixed_params=fixed_params)\n",
    "print(\"Optimized parameters\\tFixed A = 0.5\\t\", res[0])"
   ]
  },
  {
   "cell_type": "markdown",
   "metadata": {},
   "source": [
    "See how the value of A remained fixed, up to a relative precision of 1e-6."
   ]
  },
  {
   "cell_type": "markdown",
   "metadata": {},
   "source": [
    "### Important notes"
   ]
  },
  {
   "cell_type": "markdown",
   "metadata": {},
   "source": [
    "See how in the definition of `fit_lorentzian` the default value for `bounds` is `(-np.inf, np.inf)`. If `bounds` was `None` by default and the user forgot to set the bounds manually, we would get a scipy error, since `None` bounds are not allowed. "
   ]
  },
  {
   "cell_type": "code",
   "execution_count": 8,
   "metadata": {},
   "outputs": [
    {
     "name": "stdout",
     "output_type": "stream",
     "text": [
      "ERROR: 'NoneType' object is not iterable\n"
     ]
    }
   ],
   "source": [
    "@fit_input\n",
    "def fit_lorentzian(x_data, y_data, guess=None, bounds=None):\n",
    "    return curve_fit(lorentzian, x_data, y_data, p0=guess, bounds=bounds)\n",
    "\n",
    "\n",
    "try:\n",
    "    fit_lorentzian(x_data, y_data)\n",
    "except Exception as err:\n",
    "    print(f\"ERROR: {err}\")"
   ]
  }
 ],
 "metadata": {
  "kernelspec": {
   "display_name": "dev",
   "language": "python",
   "name": "python3"
  },
  "language_info": {
   "codemirror_mode": {
    "name": "ipython",
    "version": 3
   },
   "file_extension": ".py",
   "mimetype": "text/x-python",
   "name": "python",
   "nbconvert_exporter": "python",
   "pygments_lexer": "ipython3",
   "version": "3.12.9"
  }
 },
 "nbformat": 4,
 "nbformat_minor": 2
}
