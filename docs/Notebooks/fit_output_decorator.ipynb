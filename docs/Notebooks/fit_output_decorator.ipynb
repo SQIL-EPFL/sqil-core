{
 "cells": [
  {
   "cell_type": "markdown",
   "metadata": {},
   "source": [
    "# The @fit_output decorator"
   ]
  },
  {
   "cell_type": "markdown",
   "metadata": {},
   "source": [
    "The `@fit_output` decorator ensures a consistent output format across different optimization methods and libraries, making it easier to work with fit results in a standardized way.\n",
    "\n",
    "\n",
    "If you're new to decorators, think of them as a way to extend a function’s behavior without modifying its core logic. In this case, `@fit_output` enhances fit functions by computing additional metrics and providing visualization tools automatically.\n",
    "\n",
    "\n",
    "This is possible because the decorator can recognize and distinguish the outputs of the most used `scipy.optimize` and `lmfit` functions. Once the library and fit method has been recognized, `@fit_output` computes missing metrics and rearranges the output in a standardized format."
   ]
  },
  {
   "cell_type": "markdown",
   "metadata": {},
   "source": [
    "The output of all the fit functions that use the decorator is a [FitResult](../../API%20reference/fit/core/#sqil_core.fit._core.FitResult), which gives you access to useful information, such as:\n",
    "- `.params`, the optimized parameters\n",
    "- `.std_err`, the standard error on the parameters\n",
    "- `.metrics`, metrics used to evaluate the goodness of the fit\n",
    "- `.output`, the raw output of the fit function\n",
    "- `.predict`, a function of only x, used to make predictions using the fitted parameters\n",
    "- `.metadata`, additional information\n",
    "\n",
    "In some cases not all of this information can be extracted from the raw fit output, especially the prediction function. If that's the case, you can pass these parameters manually, as we'll see in the following examples."
   ]
  },
  {
   "cell_type": "markdown",
   "metadata": {},
   "source": [
    "## Lorentzian fit example\n",
    "Let's define the lorentzian function and create some synthetic data for our example"
   ]
  },
  {
   "cell_type": "code",
   "execution_count": 1,
   "metadata": {},
   "outputs": [],
   "source": [
    "import numpy as np\n",
    "\n",
    "# Define the Lorentzian function\n",
    "def lorentzian(x, A, x0, w):\n",
    "    return (A / np.pi) * (w / ((x - x0)**2 + w**2))\n",
    "\n",
    "# Generate synthetic data\n",
    "true_params = [1, 0, 2]  # A=1, x0=0, w=2\n",
    "np.random.seed(11)\n",
    "x_data = np.linspace(-10, 10, 100)\n",
    "noise = 0.01 * np.random.normal(size=len(x_data))\n",
    "y_data = lorentzian(x_data, *true_params) + noise  # Add noise"
   ]
  },
  {
   "cell_type": "markdown",
   "metadata": {},
   "source": [
    "### Without the decorator"
   ]
  },
  {
   "cell_type": "markdown",
   "metadata": {},
   "source": [
    "Let's look at an example of a lorentzian fit using `scipy`'s `curve_fit`.\n",
    "\n",
    "\n",
    "**Step 1**: we perform the optimization using `curve_fit`"
   ]
  },
  {
   "cell_type": "code",
   "execution_count": 2,
   "metadata": {},
   "outputs": [],
   "source": [
    "from scipy.optimize import curve_fit\n",
    "\n",
    "# Fit the data using curve_fit\n",
    "popt, pcov = curve_fit(lorentzian, x_data, y_data, p0=[1, 0, 1])"
   ]
  },
  {
   "cell_type": "markdown",
   "metadata": {},
   "source": [
    "**Step 2**: extract the parameters and compute the chi-squared and the standard errors to evaluate the goodness of the fit"
   ]
  },
  {
   "cell_type": "code",
   "execution_count": 3,
   "metadata": {},
   "outputs": [
    {
     "name": "stdout",
     "output_type": "stream",
     "text": [
      "Fitted parameters: A=1.007, x0=0.044, w=2.015\n",
      "Standard errors: A=0.022, x0=0.043, w=0.061\n",
      "Chi-squared: 0.009\n"
     ]
    }
   ],
   "source": [
    "# Extract fitted parameters\n",
    "A_fit, x0_fit, w_fit = popt\n",
    "print(f\"Fitted parameters: A={A_fit:.3f}, x0={x0_fit:.3f}, w={w_fit:.3f}\")\n",
    "\n",
    "# Extract standard errors (diagonal of the covariance matrix)\n",
    "perr = np.sqrt(np.diag(pcov))\n",
    "print(f\"Standard errors: A={perr[0]:.3f}, x0={perr[1]:.3f}, w={perr[2]:.3f}\")\n",
    "\n",
    "# Compute the chi-squared value\n",
    "y_fit = lorentzian(x_data, *popt)  # Fitted curve\n",
    "residuals = y_data - y_fit\n",
    "chi_squared = np.sum((residuals)**2)\n",
    "print(f\"Chi-squared: {chi_squared:.3f}\")"
   ]
  },
  {
   "cell_type": "markdown",
   "metadata": {},
   "source": [
    "While this is a valid way of performing the fit, there are a few issues.\n",
    "- There is no immediate way of assessing the fit quality\n",
    "- While we have the covariance matrix, the standard errors are not immediately available\n",
    "- There is no easy way of printing the parameters and their respective errors"
   ]
  },
  {
   "cell_type": "markdown",
   "metadata": {},
   "source": [
    "### With the decorator"
   ]
  },
  {
   "cell_type": "markdown",
   "metadata": {},
   "source": [
    "**Step 1**: create the fit function and apply the decorator"
   ]
  },
  {
   "cell_type": "code",
   "execution_count": 4,
   "metadata": {},
   "outputs": [],
   "source": [
    "from sqil_core.fit import fit_output\n",
    "\n",
    "@fit_output\n",
    "def fit_lorentzian(x_data, y_data):\n",
    "    result = curve_fit(lorentzian, x_data, y_data, p0=[1, 0, 1], full_output=True)\n",
    "    return result"
   ]
  },
  {
   "cell_type": "markdown",
   "metadata": {},
   "source": [
    "**Step 2**: run the optimization and print the summary"
   ]
  },
  {
   "cell_type": "code",
   "execution_count": 5,
   "metadata": {},
   "outputs": [
    {
     "name": "stdout",
     "output_type": "stream",
     "text": [
      "reduced χ²\t8.869e-05\tGREAT (or overfitting)\n",
      "|   Param |   Fitted value |   STD error |   % Error |\n",
      "|---------|----------------|-------------|-----------|\n",
      "|       0 |      1.00732   |   0.0002031 |      0.02 |\n",
      "|       1 |      0.0435118 |   0.0004014 |      0.92 |\n",
      "|       2 |      2.01523   |   0.0005755 |      0.03 |\n",
      "\n"
     ]
    }
   ],
   "source": [
    "fit_result = fit_lorentzian(x_data, y_data)\n",
    "\n",
    "fit_result.summary()"
   ]
  },
  {
   "cell_type": "markdown",
   "metadata": {},
   "source": [
    "The result is much easier to read.<br>\n",
    "`fit_result` is now a `FitResult` object, which contains even more information. You can read more about it [here](../../API%20reference/fit/core/#sqil_core.fit._core.FitResult).<br>\n",
    "From `fit_result` we can access the following properties:"
   ]
  },
  {
   "cell_type": "code",
   "execution_count": 6,
   "metadata": {},
   "outputs": [
    {
     "data": {
      "text/plain": [
       "''"
      ]
     },
     "execution_count": 6,
     "metadata": {},
     "output_type": "execute_result"
    }
   ],
   "source": [
    "# Prints a summary of the fit, including parameters values, their error\n",
    "# and metrics to evaluate the goodness of the fit.\n",
    "fit_result.summary#()\n",
    "\n",
    "# The parameters as a numpy array\n",
    "fit_result.params\n",
    "\n",
    "# The standard errror on the parameters as a numpy array\n",
    "fit_result.std_err\n",
    "\n",
    "# Fit metrics (like reduced chi-squared)\n",
    "fit_result.metrics\n",
    "\n",
    "# The raw output of the optimization, in this case it's the\n",
    "# output of scipy curve_fit\n",
    "fit_result.output\n",
    "\n",
    "# Names of the parameters (not always available)\n",
    "fit_result.param_names\n",
    "\n",
    "# Predict y given x, with the current optimized parameters (not always available)\n",
    "fit_result.predict#(x_fit)\n",
    ";"
   ]
  },
  {
   "cell_type": "markdown",
   "metadata": {},
   "source": [
    "You may have noticed that some attributes are not always available, that's because they can't be guessed from the optimizer's output. However, you can still provide them to the decorator by returning a tuple in your fit function, instead of just the optimizer's output. The tuple should contain a second element, `metadata`, which is a dictionary used to provide additional information. \n",
    "\n",
    "In the example below we manually add the parameter's names, this way the `summary()` becomes easier to read."
   ]
  },
  {
   "cell_type": "code",
   "execution_count": 7,
   "metadata": {},
   "outputs": [
    {
     "name": "stdout",
     "output_type": "stream",
     "text": [
      "reduced χ²\t8.869e-05\tGREAT (or overfitting)\n",
      "| Param   |   Fitted value |   STD error |   % Error |\n",
      "|---------|----------------|-------------|-----------|\n",
      "| A       |      1.00732   |   0.0002031 |      0.02 |\n",
      "| x0      |      0.0435118 |   0.0004014 |      0.92 |\n",
      "| w       |      2.01523   |   0.0005755 |      0.03 |\n",
      "\n"
     ]
    }
   ],
   "source": [
    "@fit_output\n",
    "def fit_lorentzian(x_data, y_data):\n",
    "    result = curve_fit(lorentzian, x_data, y_data, p0=[1, 0, 1], full_output=True)\n",
    "    metadata = {\n",
    "        \"param_names\": [\"A\", \"x0\", \"w\"]\n",
    "    }\n",
    "    return result, metadata\n",
    "\n",
    "fit_result = fit_lorentzian(x_data, y_data)\n",
    "fit_result.summary()"
   ]
  },
  {
   "cell_type": "markdown",
   "metadata": {},
   "source": [
    "**Step 3**: vistualize the results\n",
    "\n",
    "In the metadata dictionary we can also pass a function that can be used to evaluate the fit on a given x vector. In our case it's the `lorenzian` function. The decorator takes care of passing the right parameters into this prediction function, which will depend only on x."
   ]
  },
  {
   "cell_type": "code",
   "execution_count": 8,
   "metadata": {},
   "outputs": [
    {
     "data": {
      "image/png": "[encoded data removed]",
      "text/plain": [
       "<Figure size 640x480 with 1 Axes>"
      ]
     },
     "metadata": {},
     "output_type": "display_data"
    }
   ],
   "source": [
    "@fit_output\n",
    "def fit_lorentzian(x_data, y_data):\n",
    "    result = curve_fit(lorentzian, x_data, y_data, p0=[1, 0, 1], full_output=True)\n",
    "    metadata = {\n",
    "        \"param_names\": [\"A\", \"x0\", \"w\"],\n",
    "        \"predict\": lorentzian\n",
    "    }\n",
    "    return result, metadata\n",
    "\n",
    "# Perform the fit\n",
    "fit_result = fit_lorentzian(x_data, y_data)\n",
    "\n",
    "# Compute fitted curve\n",
    "x_fit = np.linspace(-10, 10, 200)\n",
    "y_fit = fit_result.predict(x_fit)\n",
    "\n",
    "# Plot result\n",
    "import matplotlib.pyplot as plt\n",
    "plt.scatter(x_data, y_data, label=\"Noisy Data\", color=\"black\", s=10)\n",
    "plt.plot(x_fit, y_fit, label=\"Lorentzian Fit\", color=\"red\", linewidth=2)\n",
    "plt.xlabel(\"x\")\n",
    "plt.ylabel(\"y\")\n",
    "plt.title(\"Lorentzian Curve Fitting\")\n",
    "plt.legend()\n",
    "plt.show()"
   ]
  },
  {
   "cell_type": "markdown",
   "metadata": {},
   "source": [
    "### With other fit libraries/methods"
   ]
  },
  {
   "cell_type": "markdown",
   "metadata": {},
   "source": [
    "The power of the decorator lies also in its ability to standardize output from libraries or methods. For example, the output given by scipy `minimize` is different from the output of scipy `curve_fit`, so in order to compute fit metrics, standard errors, etc. different functions must be used. However, applying the decorator to both `minimize` and `curve_fit` produces the same output.\n",
    "\n",
    "**Minimize without decorator**"
   ]
  },
  {
   "cell_type": "code",
   "execution_count": 9,
   "metadata": {},
   "outputs": [
    {
     "name": "stdout",
     "output_type": "stream",
     "text": [
      "Fitted parameters: A=1.007, x0=0.044, w=2.015\n",
      "Chi-squared: 0.009\n",
      "Standard errors: A=1.521, x0=3.044, w=3.974\n"
     ]
    }
   ],
   "source": [
    "from scipy.optimize import minimize\n",
    "\n",
    "# Define the cost function to minimize (sum of squared residuals)\n",
    "def cost_function(params, x, y):\n",
    "    A, x0, w = params\n",
    "    y_model = lorentzian(x, A, x0, w)\n",
    "    return np.sum((y - y_model) ** 2)\n",
    "\n",
    "# Use scipy.optimize.minimize to fit the data\n",
    "result = minimize(cost_function, [1,0,1], args=(x_data, y_data), method='BFGS')\n",
    "\n",
    "# Print parameters\n",
    "A_fit, x0_fit, w_fit = result.x\n",
    "print(f\"Fitted parameters: A={A_fit:.3f}, x0={x0_fit:.3f}, w={w_fit:.3f}\")\n",
    "\n",
    "# Compute chi-squared\n",
    "y_fit = lorentzian(x_data, *result.x)\n",
    "residuals = y_data - y_fit\n",
    "chi_squared = np.sum((residuals) ** 2)\n",
    "print(f\"Chi-squared: {chi_squared:.3f}\")\n",
    "\n",
    "# Approximate the covariance with the inverse hessian\n",
    "hessian_inv = result.hess_inv\n",
    "# Compute standard errors\n",
    "standard_errors = np.sqrt(np.diagonal(hessian_inv))\n",
    "print(f\"Standard errors: A={standard_errors[0]:.3f}, x0={standard_errors[1]:.3f}, w={standard_errors[2]:.3f}\")"
   ]
  },
  {
   "cell_type": "markdown",
   "metadata": {},
   "source": [
    "**Minimize with decorator**"
   ]
  },
  {
   "cell_type": "code",
   "execution_count": 10,
   "metadata": {},
   "outputs": [
    {
     "name": "stdout",
     "output_type": "stream",
     "text": [
      "reduced χ²\t8.869e-05\tGREAT (or overfitting)\n",
      "| Param   |   Fitted value |   STD error |   % Error |\n",
      "|---------|----------------|-------------|-----------|\n",
      "| A       |      1.00732   |     0.01433 |      1.42 |\n",
      "| x0      |      0.0435014 |     0.02867 |     65.9  |\n",
      "| w       |      2.01521   |     0.03742 |      1.86 |\n",
      "\n"
     ]
    }
   ],
   "source": [
    "@fit_output\n",
    "def minimize_lorentzian(x_data, y_data):\n",
    "    result = minimize(cost_function, [1,0,1], args=(x_data, y_data), method='BFGS')\n",
    "    metadata = {\n",
    "        \"param_names\": [\"A\", \"x0\", \"w\"],\n",
    "        \"predict\": lorentzian\n",
    "    }\n",
    "    return result, metadata\n",
    "\n",
    "fit_result = minimize_lorentzian(x_data, y_data)\n",
    "fit_result.summary()"
   ]
  },
  {
   "cell_type": "markdown",
   "metadata": {},
   "source": [
    "**`lmfit` with decorator**"
   ]
  },
  {
   "cell_type": "code",
   "execution_count": 11,
   "metadata": {},
   "outputs": [
    {
     "name": "stdout",
     "output_type": "stream",
     "text": [
      "reduced χ²\t8.869e-05\tGREAT (or overfitting)\n",
      "| Param   |   Fitted value |   STD error |   % Error |\n",
      "|---------|----------------|-------------|-----------|\n",
      "| A       |      1.00732   |     0.02157 |      2.14 |\n",
      "| x0      |      0.0435118 |     0.04263 |     97.97 |\n",
      "| w       |      2.01523   |     0.06111 |      3.03 |\n",
      "\n"
     ]
    }
   ],
   "source": [
    "from lmfit import Model\n",
    "\n",
    "@fit_output\n",
    "def lmfit_lorentzian(x_data, y_data):\n",
    "    # Create an lmfit model for the Lorentzian function\n",
    "    lorentzian_model = Model(lorentzian)\n",
    "    # Define the parameters\n",
    "    params = lorentzian_model.make_params(A=1, x0=0, w=1)\n",
    "    # Perform the fit\n",
    "    result = lorentzian_model.fit(y_data, params, x=x_data)\n",
    "    return result\n",
    "\n",
    "fit_result = lmfit_lorentzian(x_data, y_data)\n",
    "fit_result.summary()"
   ]
  },
  {
   "cell_type": "markdown",
   "metadata": {},
   "source": [
    "Note how in the lmfit case no metadata is required, because all the information can be directly extracted from the lmfit output."
   ]
  },
  {
   "cell_type": "markdown",
   "metadata": {},
   "source": [
    "## Advanced uses of metadata"
   ]
  },
  {
   "cell_type": "markdown",
   "metadata": {},
   "source": [
    "### Passing extra information\n",
    "Let's say we need to perform a gaussian fit. Our fitting parameters will be an amplitude `A`, the mean `mu` and the standard deviation `sigma`. However, in some cases it's useful to know also the FWHM, so we can compute it and pass it into the metadata field."
   ]
  },
  {
   "cell_type": "markdown",
   "metadata": {},
   "source": [
    "We start by defining the gaussian function and some synthetic data"
   ]
  },
  {
   "cell_type": "code",
   "execution_count": null,
   "metadata": {},
   "outputs": [],
   "source": [
    "# Define the gaussian function\n",
    "def gaussian(x, A, mu, sigma):\n",
    "    return A * np.exp(-(x - mu)**2 / (2 * sigma**2))\n",
    "\n",
    "# Generate synthetic data\n",
    "true_params = [1, 0, 2]  # A=1, mu=0, sigma=2\n",
    "np.random.seed(11)\n",
    "x_data = np.linspace(-10, 10, 100)\n",
    "noise = 0.01 * np.random.normal(size=len(x_data))\n",
    "y_data = gaussian(x_data, *true_params) + noise"
   ]
  },
  {
   "cell_type": "markdown",
   "metadata": {},
   "source": [
    "Then we write the gaussian fit function. Instead of immediately returning the result, we perform additional calculations on the optimized parameters, find the fwhm and pass it into the metadata dictionary"
   ]
  },
  {
   "cell_type": "code",
   "execution_count": 19,
   "metadata": {},
   "outputs": [],
   "source": [
    "@fit_output\n",
    "def fit_gaussian(x_data, y_data):\n",
    "    # Perform the fit\n",
    "    result = curve_fit(gaussian, x_data, y_data, full_output=True)\n",
    "\n",
    "    # Extract the value of sigma from the optimized parameters\n",
    "    params = result[0]\n",
    "    _, _, sigma = params\n",
    "    # Compute the FWHM from sigma\n",
    "    fwhm = 2 * np.sqrt(2 * np.log(2)) * sigma\n",
    "\n",
    "    # Create a metadata dict that includes the fwhm\n",
    "    metadata = {\n",
    "        \"fwhm\": fwhm\n",
    "    }\n",
    "\n",
    "    return result, metadata"
   ]
  },
  {
   "cell_type": "markdown",
   "metadata": {},
   "source": [
    "From the FitResult object we can access `.metadata` and get the value of the fwhm"
   ]
  },
  {
   "cell_type": "code",
   "execution_count": 23,
   "metadata": {},
   "outputs": [
    {
     "name": "stdout",
     "output_type": "stream",
     "text": [
      "FWHM = 4.72\n"
     ]
    }
   ],
   "source": [
    "fit_result = fit_gaussian(x_data, y_data)\n",
    "fwhm = fit_result.metadata['fwhm']\n",
    "\n",
    "print(f\"FWHM = {fwhm:.2f}\")"
   ]
  },
  {
   "cell_type": "markdown",
   "metadata": {},
   "source": [
    "### Computing extra information"
   ]
  },
  {
   "cell_type": "markdown",
   "metadata": {},
   "source": [
    "Sometimes it's also useful automatically perform calculations on the data that the decorator computes.\n",
    "\n",
    "For example, let's say we want to calculate `u = x * sigma`. Then we would need to follow the exact same steps as the previous example and pass `u` instead of `fwhm`. However, if we're interested in the error on `u` it's more complicated.\n",
    "\n",
    "We need to compute the error propagation, but we don't have access to the standard errors form the `curve_fit` result. To solve this issue, it's possible to name elements of the metadata dictionary starting with `@`. These special elements will be processed as functions that take as input `sqil_dict`. `sqil_dict` is the dictionary used internally by the `@fit_output` decorator to create the `FitResult` object. It contains all the information of `FitResult`, but in a dictionary format.\n",
    "\n",
    "Knowing this, we can create a function to compute the error propagation that takes as input `sqil_dict`. This function will be called by the decorator and we'll be able to access the result of the function from the `.metadata` field of the fit result."
   ]
  },
  {
   "cell_type": "markdown",
   "metadata": {},
   "source": [
    "Let's create out fit function first"
   ]
  },
  {
   "cell_type": "code",
   "execution_count": null,
   "metadata": {},
   "outputs": [],
   "source": [
    "@fit_output\n",
    "def fit_gaussian(x_data, y_data):\n",
    "    # Perform the fit\n",
    "    result = curve_fit(gaussian, x_data, y_data, full_output=True)\n",
    "\n",
    "    # Define the error propagation function, which must take sqil_dict as input\n",
    "    def compute_fwhm_error(sqil_dict):\n",
    "        # Extract parameters and errors from sqil_dict\n",
    "        _, mu, sigma = sqil_dict[\"params\"]\n",
    "        _, mu_err, sigma_err = sqil_dict[\"std_err\"]\n",
    "        # Compute the error propagation\n",
    "        return np.sqrt((sigma * mu_err)**2 + (mu * sigma_err)**2)\n",
    "\n",
    "    # Add the function to the metadata, with a name starting with @\n",
    "    metadata = {\n",
    "        \"@fwhm_err\": compute_fwhm_error\n",
    "    }\n",
    "\n",
    "    return result, metadata"
   ]
  },
  {
   "cell_type": "markdown",
   "metadata": {},
   "source": []
  },
  {
   "cell_type": "code",
   "execution_count": null,
   "metadata": {},
   "outputs": [],
   "source": [
    "fit_result = fit_gaussian(x_data, y_data)\n",
    "fwhm = fit_result.metadata['fwhm']"
   ]
  }
 ],
 "metadata": {
  "kernelspec": {
   "display_name": "dev",
   "language": "python",
   "name": "python3"
  },
  "language_info": {
   "codemirror_mode": {
    "name": "ipython",
    "version": 3
   },
   "file_extension": ".py",
   "mimetype": "text/x-python",
   "name": "python",
   "nbconvert_exporter": "python",
   "pygments_lexer": "ipython3",
   "version": "3.12.9"
  }
 },
 "nbformat": 4,
 "nbformat_minor": 2
}
